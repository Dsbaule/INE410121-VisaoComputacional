{
 "cells": [
  {
   "cell_type": "code",
   "execution_count": 1,
   "id": "71f3df40",
   "metadata": {},
   "outputs": [],
   "source": [
    "# import the necessary packages\n",
    "from sklearn.neighbors import KNeighborsClassifier\n",
    "from skimage import exposure\n",
    "from skimage import feature\n",
    "from imutils import paths\n",
    "import cv2\n",
    "import imutils\n",
    "import os\n",
    "import shutil\n",
    "import matplotlib.pyplot as plt"
   ]
  },
  {
   "cell_type": "code",
   "execution_count": 2,
   "id": "d1f08805",
   "metadata": {},
   "outputs": [],
   "source": [
    "CUR_DIR = os.getcwd()\n",
    "DATASET_PATH = os.path.join(CUR_DIR, \"IsolatedComponentsDataset\")\n",
    "DATASET_TRAIN_PATH = os.path.join(DATASET_PATH, 'train')\n",
    "DATASET_TEST_PATH = os.path.join(DATASET_PATH, 'test')\n",
    "DATASET_VALID_PATH = os.path.join(DATASET_PATH, 'valid')"
   ]
  },
  {
   "cell_type": "code",
   "execution_count": 4,
   "id": "4ee1ef84",
   "metadata": {},
   "outputs": [
    {
     "name": "stderr",
     "output_type": "stream",
     "text": [
      "'ls' is not recognized as an internal or external command,\n",
      "operable program or batch file.\n"
     ]
    }
   ],
   "source": [
    "!ls"
   ]
  },
  {
   "cell_type": "code",
   "execution_count": 5,
   "id": "e44b688b",
   "metadata": {},
   "outputs": [
    {
     "name": "stdout",
     "output_type": "stream",
     "text": [
      "C:\\Users\\dsbau\\OneDrive\\Documents\\UFSC\\Mestrado\\2o Semestre\\INE410121 - Visão Computacional\\INE410121-VisaoComputacional\\IsolatedComponentsDataset\\train\\Button\\001-Sketch_jpg.jpg\n"
     ]
    },
    {
     "ename": "error",
     "evalue": "OpenCV(4.5.5) D:\\a\\opencv-python\\opencv-python\\opencv\\modules\\imgproc\\src\\color.cpp:182: error: (-215:Assertion failed) !_src.empty() in function 'cv::cvtColor'\n",
     "output_type": "error",
     "traceback": [
      "\u001b[1;31m---------------------------------------------------------------------------\u001b[0m",
      "\u001b[1;31merror\u001b[0m                                     Traceback (most recent call last)",
      "\u001b[1;32m~\\AppData\\Local\\Temp/ipykernel_8496/840903034.py\u001b[0m in \u001b[0;36m<module>\u001b[1;34m\u001b[0m\n\u001b[0;32m     16\u001b[0m         \u001b[0mimage\u001b[0m \u001b[1;33m=\u001b[0m \u001b[0mcv2\u001b[0m\u001b[1;33m.\u001b[0m\u001b[0mimread\u001b[0m\u001b[1;33m(\u001b[0m\u001b[1;34mr'C:\\Users\\dsbau\\OneDrive\\Documents\\UFSC\\Mestrado\\2o Semestre\\INE410121 - Visão Computacional\\INE410121-VisaoComputacional\\IsolatedComponentsDataset\\train\\Button\\001-Sketch_jpg.jpg'\u001b[0m\u001b[1;33m)\u001b[0m\u001b[1;33m\u001b[0m\u001b[1;33m\u001b[0m\u001b[0m\n\u001b[0;32m     17\u001b[0m \u001b[1;33m\u001b[0m\u001b[0m\n\u001b[1;32m---> 18\u001b[1;33m         \u001b[0mcv2\u001b[0m\u001b[1;33m.\u001b[0m\u001b[0mimshow\u001b[0m\u001b[1;33m(\u001b[0m\u001b[1;34m'image'\u001b[0m\u001b[1;33m,\u001b[0m\u001b[0mimage\u001b[0m\u001b[1;33m)\u001b[0m\u001b[1;33m\u001b[0m\u001b[1;33m\u001b[0m\u001b[0m\n\u001b[0m\u001b[0;32m     19\u001b[0m         \u001b[0mcv2\u001b[0m\u001b[1;33m.\u001b[0m\u001b[0mwaitKey\u001b[0m\u001b[1;33m(\u001b[0m\u001b[1;36m0\u001b[0m\u001b[1;33m)\u001b[0m\u001b[1;33m\u001b[0m\u001b[1;33m\u001b[0m\u001b[0m\n\u001b[0;32m     20\u001b[0m \u001b[1;33m\u001b[0m\u001b[0m\n",
      "\u001b[1;31merror\u001b[0m: OpenCV(4.5.5) D:\\a\\opencv-python\\opencv-python\\opencv\\modules\\imgproc\\src\\color.cpp:182: error: (-215:Assertion failed) !_src.empty() in function 'cv::cvtColor'\n"
     ]
    }
   ],
   "source": [
    "data = []\n",
    "labels = []\n",
    "\n",
    "# loop over the image paths in the training set\n",
    "for className in os.listdir(DATASET_TRAIN_PATH):\n",
    "    class_folder_path = os.path.join(DATASET_TRAIN_PATH, className)\n",
    "    \n",
    "    for imageName in os.listdir(class_folder_path):\n",
    "        imagePath = os.path.join(class_folder_path, imageName)\n",
    "        print(imagePath)\n",
    "\n",
    "        if not os.path.isfile(imagePath):\n",
    "            continue\n",
    "\n",
    "        # load the image, convert it to grayscale, and detect edges\n",
    "        image = cv2.imread(r'C:\\Users\\dsbau\\OneDrive\\Documents\\UFSC\\Mestrado\\2o Semestre\\INE410121 - Visão Computacional\\INE410121-VisaoComputacional\\IsolatedComponentsDataset\\train\\Button\\001-Sketch_jpg.jpg')\n",
    "        \n",
    "        cv2.imshow('image',image)\n",
    "        cv2.waitKey(0)\n",
    "        \n",
    "        gray = cv2.cvtColor(image, cv2.COLOR_BGR2GRAY)\n",
    "        edged = imutils.auto_canny(gray)\n",
    "\n",
    "        # find contours in the edge map, keeping only the largest one which\n",
    "        # is presmumed to be the car logo\n",
    "        cnts = cv2.findContours(edged.copy(), cv2.RETR_EXTERNAL,\n",
    "        cv2.CHAIN_APPROX_SIMPLE)\n",
    "        cnts = imutils.grab_contours(cnts)\n",
    "        c = max(cnts, key=cv2.contourArea)\n",
    "\n",
    "        # extract the logo of the car and resize it to a canonical width\n",
    "        # and height\n",
    "        (x, y, w, h) = cv2.boundingRect(c)\n",
    "        logo = gray[y:y + h, x:x + w]\n",
    "        logo = cv2.resize(logo, (200, 100))\n",
    "\n",
    "        # extract Histogram of Oriented Gradients from the logo\n",
    "        H = feature.hog(logo, orientations=9, pixels_per_cell=(10, 10),\n",
    "        cells_per_block=(2, 2), transform_sqrt=True, block_norm=\"L1\")\n",
    "\n",
    "        # update the data and labels\n",
    "        data.append(H)\n",
    "        labels.append(className)"
   ]
  },
  {
   "cell_type": "code",
   "execution_count": 42,
   "id": "4487a5c7",
   "metadata": {},
   "outputs": [
    {
     "data": {
      "text/plain": [
       "0"
      ]
     },
     "execution_count": 42,
     "metadata": {},
     "output_type": "execute_result"
    }
   ],
   "source": [
    "len(labels)"
   ]
  }
 ],
 "metadata": {
  "kernelspec": {
   "display_name": "Python 3 (ipykernel)",
   "language": "python",
   "name": "python3"
  },
  "language_info": {
   "codemirror_mode": {
    "name": "ipython",
    "version": 3
   },
   "file_extension": ".py",
   "mimetype": "text/x-python",
   "name": "python",
   "nbconvert_exporter": "python",
   "pygments_lexer": "ipython3",
   "version": "3.9.7"
  }
 },
 "nbformat": 4,
 "nbformat_minor": 5
}
